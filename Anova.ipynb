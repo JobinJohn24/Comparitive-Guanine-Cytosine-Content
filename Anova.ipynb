{
 "cells": [
  {
   "cell_type": "code",
   "execution_count": 121,
   "id": "264d04cf",
   "metadata": {},
   "outputs": [],
   "source": [
    "from Bio import SeqIO\n",
    "import numpy as np\n",
    "import pandas as pd\n",
    "import os\n",
    "from scipy import stats\n",
    "import matplotlib.pyplot as plt\n",
    "#necessary for ANOVA analysis\n",
    "from statsmodels.stats.anova import anova_lm\n",
    "from scipy.stats import f_oneway\n",
    "from statsmodels.formula.api import ols\n",
    "#necessary for t-test\n",
    "from scipy.stats import ttest_ind\n",
    "import statsmodels.api as sm\n",
    "#necessary for table customization\n",
    "from tabulate import tabulate\n",
    "#posthoc's Turkey HSD test \n",
    "from statsmodels.stats.multicomp import pairwise_tukeyhsd"
   ]
  },
  {
   "cell_type": "code",
   "execution_count": 6,
   "id": "7949e6ce",
   "metadata": {
    "scrolled": true
   },
   "outputs": [
    {
     "name": "stdout",
     "output_type": "stream",
     "text": [
      "  Source of Variation  Sum of Squares  Degrees of Freedom Mean Squares  \\\n",
      "0      Between Groups      627.881642                   2   313.940821   \n",
      "1       Within Groups        0.229591                   2     0.114796   \n",
      "2               Total      628.111233                   4            -   \n",
      "\n",
      "       F-value   p-value  \n",
      "0  2734.780848  0.000366  \n",
      "1            -         -  \n",
      "2            -         -  \n"
     ]
    }
   ],
   "source": [
    "# Create a DataFrame with the data\n",
    "data = pd.DataFrame({\n",
    "    'Species': ['Zebrafish', 'Tuberculosis', 'Human', 'Mouse', 'Dog'],\n",
    "    'Guanine-Cytosine Percent': [65.61503, 65.61507, 42.19234, 42.86997, 43.17497],\n",
    "    'Group': ['A', 'A', 'B', 'B', 'C']  # Assign a group to each test subject\n",
    "})\n",
    "\n",
    "# Perform ANOVA test\n",
    "groups = []\n",
    "for group in data['Group'].unique():\n",
    "    groups.append(data[data['Group'] == group]['Guanine-Cytosine Percent'])\n",
    "\n",
    "result = f_oneway(*groups)\n",
    "\n",
    "# Calculate sum of squares\n",
    "mean_total = data['Guanine-Cytosine Percent'].mean()\n",
    "ss_total = ((data['Guanine-Cytosine Percent'] - mean_total) ** 2).sum()\n",
    "ss_between = sum(len(group) * (group.mean() - mean_total) ** 2 for group in groups)\n",
    "ss_within = ss_total - ss_between\n",
    "\n",
    "# Create dataframe\n",
    "df = pd.DataFrame({\n",
    "    'Source of Variation': ['Between Groups', 'Within Groups', 'Total'],\n",
    "    'Sum of Squares': [ss_between, ss_within, ss_total],\n",
    "    'Degrees of Freedom': [len(groups) - 1,\n",
    "                           len(data) - len(groups),\n",
    "                           len(data) - 1],\n",
    "    'Mean Squares': [ss_between / (len(groups) - 1),\n",
    "                     ss_within / (len(data) - len(groups)),\n",
    "                     '-'],\n",
    "    'F-value': [(ss_between / (len(groups) - 1)) / (ss_within / (len(data) - len(groups))), '-', '-'],\n",
    "    'p-value': [result[1], '-', '-']\n",
    "})\n",
    "\n",
    "# View the dataframe\n",
    "print(df)"
   ]
  },
  {
   "cell_type": "code",
   "execution_count": 130,
   "id": "538b1fed",
   "metadata": {},
   "outputs": [
    {
     "data": {
      "image/png": "[encoded data removed]",
      "text/plain": [
       "<Figure size 1000x500 with 1 Axes>"
      ]
     },
     "metadata": {},
     "output_type": "display_data"
    }
   ],
   "source": [
    "# Create a DataFrame with the data\n",
    "data = pd.DataFrame({\n",
    "    'Source of Variation': ['Between Groups', 'Within Groups', 'Total'],\n",
    "    'Sum of Squares': [627.882, 0.229591, 628.111],\n",
    "    'Degrees of Freedom': [2, 2, 4],\n",
    "    'Mean Squares': [313.94082098053497, 0.11479560462510108, '-'],\n",
    "    'F-value': [2734.7808481500783, '-', '-'],\n",
    "    'p-value': [0.0003655263544502129, '-', '-']\n",
    "})\n",
    "\n",
    "# Remove columns with indices 0, 1, and 2\n",
    "data = data.drop(data.columns[[5]], axis=1)\n",
    "\n",
    "# Convert the DataFrame to a visually appealing table using the \"pipe\" format\n",
    "table = tabulate(data, headers='keys', tablefmt='fancy_grid', floatfmt=\".2f\")\n",
    "\n",
    "# Save the table to a file\n",
    "with open('table.txt', 'w') as f:\n",
    "    f.write(table)\n",
    "\n",
    "# Create a plot of the table\n",
    "plt.figure(figsize=(10, 5))\n",
    "plt.axis('off')\n",
    "plt.table(cellText=df.values, colLabels=df.columns, cellLoc='center', loc='center', bbox=[0, 0, 1, 1])\n",
    "\n",
    "# Save the plot as a PNG image\n",
    "plt.savefig('anova.png', bbox_inches='tight')"
   ]
  },
  {
   "cell_type": "code",
   "execution_count": null,
   "id": "b28a6071",
   "metadata": {},
   "outputs": [],
   "source": []
  }
 ],
 "metadata": {
  "kernelspec": {
   "display_name": "Python 3 (ipykernel)",
   "language": "python",
   "name": "python3"
  },
  "language_info": {
   "codemirror_mode": {
    "name": "ipython",
    "version": 3
   },
   "file_extension": ".py",
   "mimetype": "text/x-python",
   "name": "python",
   "nbconvert_exporter": "python",
   "pygments_lexer": "ipython3",
   "version": "3.9.13"
  }
 },
 "nbformat": 4,
 "nbformat_minor": 5
}
